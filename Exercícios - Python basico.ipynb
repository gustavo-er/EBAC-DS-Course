{
 "cells": [
  {
   "cell_type": "markdown",
   "metadata": {},
   "source": [
    "### 01 - Teste de gravidez\n",
    "Escreva uma célula com controle de fluxos que tem como premissa a existência das seguintes variáveis:\n",
    "\n",
    "- ```sexo``` como ```str``` indicando os valores '**M**' para masculino e '**F**' para feminino  \n",
    "- ```beta_hcg``` que indica a quantidade do beta-HCG no sangue em mUI/mL.\n",
    "\n",
    "A sua tarefa é escrever um código que imprima como resultado \"indivíduo do sexo masculino\" quando sexo = 'M', caso sexo = 'F', se o valor de beta-HCG for maior que 5, retorne \"Positivo\" indicando que a paciente está grávida, e retorne \"Negativo\" caso contrário.\n",
    "\n",
    "Não mexa nos valores da variável ```sexo``` nem em ```beta_hcg```, e escreva um código que funcione para quaisquer valores possíveis de ambos: ```sexo``` = '**M**' ou '**F**' e ```beta_hcg``` assumindo valores inteiros positivos."
   ]
  },
  {
   "cell_type": "code",
   "execution_count": 53,
   "metadata": {},
   "outputs": [
    {
     "name": "stdout",
     "output_type": "stream",
     "text": [
      "F\n",
      "5\n",
      "Negativo\n"
     ]
    }
   ],
   "source": [
    "sexo = 'M'\n",
    "beta_hcg = 0\n",
    "\n",
    "# seu código vem abaixo desta linha\n",
    "sexo = 'M' or 'F'\n",
    "beta_hcg = int()\n",
    "sexo = input()\n",
    "if sexo == 'M':\n",
    "    print(\"Individuo do sexo masculino\")\n",
    "elif sexo == 'F':\n",
    "    beta_hcg = int(input())\n",
    "    if beta_hcg > 5:\n",
    "        print(\"Positivo\")\n",
    "    else:\n",
    "        print(\"Negativo\")\n",
    "\n",
    "    "
   ]
  },
  {
   "cell_type": "markdown",
   "metadata": {},
   "source": [
    "### 02 - Renomeando variáveis\n",
    "\n",
    "Vamos ver adiante que uma forma de renomear variáveis de um conjunto de dados é através de dicionários - o dicionário deve conter como chave o nome original, associando a cada chave um único valor (tipo *str*) que contenha o nome novo.\n",
    "\n",
    "A sua tarefa é escrever um dicionário que possa ser utilizado para traduzir as variáveis ```name``` (nome), ```age``` (idade) e ```income``` (renda). Ou seja, esse dicionário deve relacionar as chaves *name, age* e *income* às suas respectivas traduções."
   ]
  },
  {
   "cell_type": "code",
   "execution_count": null,
   "metadata": {},
   "outputs": [],
   "source": [
    "dic_renomeacao = {\"name\":'nome', \"age\":'idade', \"income\":'renda'}\n",
    "dic_renomeacao[\"name\"]\n",
    "dic_renomeacao[\"age\"]\n",
    "dic_renomeacao[\"income\"]"
   ]
  },
  {
   "cell_type": "markdown",
   "metadata": {},
   "source": [
    "### 03 - É divisível?\n",
    "A sua tarefa é escrever um código que indique se um número ```N``` é divisível por um número P. Escreva um programa que faça essa verificação para quaisquer combinações de ```N``` e ```M``` e devolva uma mensagem indicativa no output."
   ]
  },
  {
   "cell_type": "code",
   "execution_count": 116,
   "metadata": {},
   "outputs": [
    {
     "name": "stdout",
     "output_type": "stream",
     "text": [
      "4\n",
      "nao divisivel\n"
     ]
    }
   ],
   "source": [
    "N = 42\n",
    "M = 7\n",
    "\n",
    "#Seu código\n",
    "soma = N+M\n",
    "sub = N-M\n",
    "div = N/M\n",
    "mult = N*M\n",
    "p = int(input())\n",
    "if (soma % p == 0) or (sub % p == 0) or (div % p == 0) or (mult % p == 0):\n",
    "    print('divisivel')\n",
    "else:\n",
    "    print('nao divisivel')\n",
    "    \n"
   ]
  },
  {
   "cell_type": "markdown",
   "metadata": {},
   "source": [
    "### 04 - Números primos\n",
    "> Um número **N** é primo se e somente se é divisível por 1, -1, por **N** e por -**N**.  \n",
    "\n",
    "Escreva um script que verifica se ```N``` é um número primo, verificando se ```N``` é divisível por todos os números de ```1``` a ```N-1```. Você vai precisar usar alguma ferramenta de *loop* que você aprendeu para isto. No final, devolva uma mensagem no output indicando se o número é primo ou não."
   ]
  },
  {
   "cell_type": "code",
   "execution_count": 121,
   "metadata": {},
   "outputs": [
    {
     "name": "stdout",
     "output_type": "stream",
     "text": [
      "Nao primo\n",
      "Primo!\n",
      "Primo!\n",
      "Primo!\n",
      "Primo!\n",
      "Primo!\n",
      "Primo!\n",
      "Primo!\n",
      "Primo!\n",
      "Primo!\n",
      "Primo!\n",
      "Primo!\n",
      "Primo!\n",
      "Primo!\n",
      "Primo!\n",
      "Primo!\n",
      "Primo!\n",
      "Primo!\n",
      "Primo!\n",
      "Primo!\n",
      "Primo!\n",
      "Primo!\n",
      "Primo!\n",
      "Primo!\n",
      "Primo!\n",
      "Primo!\n",
      "Primo!\n",
      "Primo!\n",
      "Primo!\n",
      "Primo!\n",
      "Primo!\n",
      "Primo!\n",
      "Primo!\n",
      "Primo!\n",
      "Primo!\n",
      "Primo!\n",
      "Primo!\n",
      "Primo!\n",
      "Primo!\n",
      "Primo!\n",
      "Primo!\n",
      "Primo!\n",
      "Primo!\n",
      "Primo!\n",
      "Primo!\n"
     ]
    }
   ],
   "source": [
    "N = 47\n",
    "\n",
    "# seu código abaixo\n",
    "for num in range(1, N-1):\n",
    "    if (N % num) == 0:\n",
    "        print(\"Nao primo\")\n",
    "    else:\n",
    "        print(\"Primo!\")"
   ]
  },
  {
   "cell_type": "markdown",
   "metadata": {},
   "source": [
    "### 05 - Desafio\n",
    "O algorítmo do exercício anterior não é o mais eficiente. O que você pode fazer para deixá-lo mais eficiente? Ou seja, executar menos comparações, portanto consumir menos tempo.\n",
    "1. Será que precisamos correr o loop até o final sempre?\n",
    "2. Será que precisamos mesmo verificar **todos** os números?\n",
    "3. Será que precisamos ir até N-1?\n",
    "\n",
    "Essas perguntas levam ao tipo de pensamento voltado a deixar um algoritmo mais eficiente. Veja se você consegue melhorar o seu."
   ]
  },
  {
   "cell_type": "code",
   "execution_count": 128,
   "metadata": {},
   "outputs": [
    {
     "name": "stdout",
     "output_type": "stream",
     "text": [
      "Nao primo!\n"
     ]
    }
   ],
   "source": [
    "N = 98\n",
    "\n",
    "# seu código aqui\n",
    "for num in range(2, N-1):\n",
    "    if (N % num) == 0:\n",
    "        print(\"Nao primo!\")\n",
    "        break\n",
    "    else:\n",
    "        print(\"Primo!\")\n",
    "        "
   ]
  },
  {
   "cell_type": "markdown",
   "metadata": {},
   "source": [
    "### 06 - Peso ideal 1\n",
    "O IMC (índice de massa corpórea) é um indicador de saúde mais bem aceito que o peso. Ele é calculado como:\n",
    "\n",
    "$$ IMC = \\dfrac{peso}{altura^2}$$\n",
    "\n",
    "Segundo a OMS, valores *normais* são entre 18.5 e 24.9.\n",
    "\n",
    "Sua tarefa é encontrar o ponto médio dessa faixa."
   ]
  },
  {
   "cell_type": "code",
   "execution_count": 162,
   "metadata": {},
   "outputs": [
    {
     "name": "stdout",
     "output_type": "stream",
     "text": [
      "21.7\n"
     ]
    }
   ],
   "source": [
    "imc_ideal = float((24.9 - 18.5)/2 + 18.5)\n",
    "imc_ideal = round(imc_ideal, 2)\n",
    "print(imc_ideal)"
   ]
  },
  {
   "cell_type": "markdown",
   "metadata": {},
   "source": [
    "### 07 - Peso ideal 2\n",
    "Recebendo um valor de altura, encontre o peso '*ideal*' dessa pessoa, que fornece o IMC encontrado acima"
   ]
  },
  {
   "cell_type": "code",
   "execution_count": 167,
   "metadata": {},
   "outputs": [
    {
     "name": "stdout",
     "output_type": "stream",
     "text": [
      "Seu peso ideal seria 62.71 kg\n"
     ]
    }
   ],
   "source": [
    "altura = 1.70\n",
    "\n",
    "# Seu código\n",
    "peso_ideal = (21.7 * altura**2)\n",
    "peso_ideal = round(peso_ideal, 2)\n",
    "print(\"Seu peso ideal seria\", peso_ideal, \"kg\")"
   ]
  },
  {
   "cell_type": "markdown",
   "metadata": {},
   "source": [
    "### 08 - Peso ideal 3\n",
    "Dada uma lista contendo as alturas de pacientes, crie uma nova lista que contenha o peso '*ideal*' (que fornece o IMC calculado em **Peso ideal 1**) desses pacientes."
   ]
  },
  {
   "cell_type": "code",
   "execution_count": 182,
   "metadata": {},
   "outputs": [
    {
     "data": {
      "text/plain": [
       "[83, 91, 63, 59]"
      ]
     },
     "execution_count": 182,
     "metadata": {},
     "output_type": "execute_result"
    }
   ],
   "source": [
    "lista_alturas = [1.95, 2.05, 1.70, 1.65]\n",
    "\n",
    "lista_peso_ideal = []\n",
    "\n",
    "# seu código\n",
    "peso_ideal = 21.7\n",
    "peso_ideal = round(peso_ideal, 2)\n",
    "\n",
    "for i in lista_alturas:\n",
    "    lista_peso_ideal.append(round((i**2) * peso_ideal))\n",
    "    \n",
    "lista_peso_ideal"
   ]
  },
  {
   "cell_type": "markdown",
   "metadata": {},
   "source": [
    "### 09 - Peso ideal 4\n",
    "Dada uma lista de tuplas - cada elemento da lista é uma tupla contendo altura e peso de um paciente - crie uma nova lista com o IMC desses pacientes."
   ]
  },
  {
   "cell_type": "code",
   "execution_count": 201,
   "metadata": {},
   "outputs": [
    {
     "data": {
      "text/plain": [
       "[27.78, 27.55, 19.19]"
      ]
     },
     "execution_count": 201,
     "metadata": {},
     "output_type": "execute_result"
    }
   ],
   "source": [
    "altura_peso = [(1.80, 90), (1.65, 75), (1.91, 70)]\n",
    "\n",
    "imc = []\n",
    "\n",
    "# seu código\n",
    "for i in altura_peso:\n",
    "    imc_tuples = i[1]/i[0]**2\n",
    "    imc.append(round(imc_tuples, 2))\n",
    "imc"
   ]
  },
  {
   "cell_type": "markdown",
   "metadata": {},
   "source": [
    "### 10 - Peso ideal 5\n",
    "Dada uma lista de **listas** - cada elemento da lista é uma **lista** contendo altura e peso de um paciente, adicione mais um elemento à lista de cada paciente contendo o IMC do paciente. Verifique também se é 'baixo', 'normal' ou 'alto' segundo os padrões da OMS em que normal é entre 18.5 e 24.9.\n",
    "\n",
    "Reflexão: por que no problema anterior temos que criar uma nova lista, e não podemos adicionar os dados de cada indivíduo à tupla?"
   ]
  },
  {
   "cell_type": "code",
   "execution_count": 307,
   "metadata": {},
   "outputs": [
    {
     "name": "stdout",
     "output_type": "stream",
     "text": [
      "normal\n",
      "normal\n",
      "normal\n",
      "[[1.8, 90, 27.78], [1.65, 75, 27.55], [1.91, 70, 19.19, 19.19]]\n"
     ]
    }
   ],
   "source": [
    "altura_peso = [[1.80, 90], [1.65, 75], [1.91, 70]]\n",
    "\n",
    "# seu código\n",
    "pessoa1 = altura_peso[0]\n",
    "imc1 = pessoa1[1]/pessoa1[0]**2\n",
    "imc1 = round(imc1, 2)\n",
    "if imc1 < 18.5:\n",
    "    print(\"baixo\")\n",
    "elif (imc1>= 18.5) or (imc1<= 24.9):\n",
    "    print(\"normal\")\n",
    "elif imc1 > 24.9:\n",
    "    print(\"alto\")\n",
    "altura_peso[0].append(imc1)\n",
    "\n",
    "pessoa2 = altura_peso[1]\n",
    "imc2 = pessoa2[1]/pessoa2[0]**2\n",
    "imc2 = round(imc2, 2)\n",
    "if imc2 < 18.5:\n",
    "    print(\"baixo\")\n",
    "elif imc2>= 18.5 or imc2<= 24.9:\n",
    "    print(\"normal\")\n",
    "elif imc2 > 24.9:\n",
    "    print(\"alto\")\n",
    "altura_peso[1].append(imc2)\n",
    "\n",
    "\n",
    "pessoa3 = altura_peso[2]\n",
    "imc3 = pessoa3[1]/pessoa3[0]**2\n",
    "imc3 = round(imc3, 2)\n",
    "altura_peso[2].append(imc3)\n",
    "if imc3 < 18.5:\n",
    "    print(\"baixo\")\n",
    "elif imc3>= 18.5 or imc2<= 24.9:\n",
    "    print(\"normal\")\n",
    "elif imc3 > 24.9:\n",
    "    print(\"alto\")\n",
    "altura_peso[2].append(imc3)\n",
    "\n",
    "print(altura_peso)"
   ]
  },
  {
   "cell_type": "code",
   "execution_count": null,
   "metadata": {},
   "outputs": [],
   "source": []
  }
 ],
 "metadata": {
  "kernelspec": {
   "display_name": "Python 3 (ipykernel)",
   "language": "python",
   "name": "python3"
  },
  "language_info": {
   "codemirror_mode": {
    "name": "ipython",
    "version": 3
   },
   "file_extension": ".py",
   "mimetype": "text/x-python",
   "name": "python",
   "nbconvert_exporter": "python",
   "pygments_lexer": "ipython3",
   "version": "3.9.7"
  }
 },
 "nbformat": 4,
 "nbformat_minor": 4
}
